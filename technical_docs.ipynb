{
  "nbformat": 4,
  "nbformat_minor": 0,
  "metadata": {
    "colab": {
      "provenance": [],
      "authorship_tag": "ABX9TyNLwdgM7PM+0kjB+Wqmfwsy",
      "include_colab_link": true
    },
    "kernelspec": {
      "name": "python3",
      "display_name": "Python 3"
    },
    "language_info": {
      "name": "python"
    }
  },
  "cells": [
    {
      "cell_type": "markdown",
      "metadata": {
        "id": "view-in-github",
        "colab_type": "text"
      },
      "source": [
        "<a href=\"https://colab.research.google.com/github/SeungJeWoo/technical-discussion/blob/main/technical_docs.ipynb\" target=\"_parent\"><img src=\"https://colab.research.google.com/assets/colab-badge.svg\" alt=\"Open In Colab\"/></a>"
      ]
    },
    {
      "cell_type": "markdown",
      "source": [
        "## Ingest"
      ],
      "metadata": {
        "id": "jh_frc9dsQNn"
      }
    },
    {
      "cell_type": "code",
      "execution_count": 1,
      "metadata": {
        "colab": {
          "base_uri": "https://localhost:8080/",
          "height": 35
        },
        "id": "a8E8paoMrnCI",
        "outputId": "e4e22b00-3ccd-488d-e53c-18ac2224ee8d"
      },
      "outputs": [
        {
          "output_type": "execute_result",
          "data": {
            "text/plain": [
              "'hi'"
            ],
            "application/vnd.google.colaboratory.intrinsic+json": {
              "type": "string"
            }
          },
          "metadata": {},
          "execution_count": 1
        }
      ],
      "source": [
        "def hello():\n",
        "  return \"hi\"\n",
        "\n",
        "hello()"
      ]
    },
    {
      "cell_type": "markdown",
      "source": [
        "## EDA"
      ],
      "metadata": {
        "id": "oGxcKjTRsUY1"
      }
    },
    {
      "cell_type": "markdown",
      "source": [
        "###This is Markdown heading\n",
        "* one\n",
        "* two\n"
      ],
      "metadata": {
        "id": "1zc-Jk4wsiHx"
      }
    },
    {
      "cell_type": "code",
      "source": [],
      "metadata": {
        "id": "IpkK91QFrq_H"
      },
      "execution_count": null,
      "outputs": []
    },
    {
      "cell_type": "markdown",
      "source": [
        "## Modelling"
      ],
      "metadata": {
        "id": "zq-LwuOEsWiL"
      }
    },
    {
      "cell_type": "code",
      "source": [],
      "metadata": {
        "id": "0UOIHNQzsYo1"
      },
      "execution_count": null,
      "outputs": []
    },
    {
      "cell_type": "markdown",
      "source": [
        "##Conclusion"
      ],
      "metadata": {
        "id": "3bMqu2JcsY_C"
      }
    },
    {
      "cell_type": "code",
      "source": [],
      "metadata": {
        "id": "q7eLoWWJsaHG"
      },
      "execution_count": null,
      "outputs": []
    }
  ]
}